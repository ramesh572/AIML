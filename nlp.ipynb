{
  "nbformat": 4,
  "nbformat_minor": 0,
  "metadata": {
    "colab": {
      "name": "nlp.ipynb",
      "provenance": [],
      "authorship_tag": "ABX9TyNZ+SlOlq/EX9PPRLqzGXJf",
      "include_colab_link": true
    },
    "kernelspec": {
      "name": "python3",
      "display_name": "Python 3"
    }
  },
  "cells": [
    {
      "cell_type": "markdown",
      "metadata": {
        "id": "view-in-github",
        "colab_type": "text"
      },
      "source": [
        "<a href=\"https://colab.research.google.com/github/ramesh572/AIML/blob/master/nlp.ipynb\" target=\"_parent\"><img src=\"https://colab.research.google.com/assets/colab-badge.svg\" alt=\"Open In Colab\"/></a>"
      ]
    },
    {
      "cell_type": "code",
      "metadata": {
        "id": "rarFUW9QcDGc",
        "colab_type": "code",
        "colab": {}
      },
      "source": [
        "#save model using pickle\n",
        "import pandas\n",
        "from sklearn import model_selection\n",
        "from sklearn.linear_model import LogisticRegression\n",
        "import pickle\n",
        "from sklearn.model_selection import train_test_split\n",
        "url=\"https://raw.githubusercontent.com/jbrownlee/Datasets/master/pima-indians-diabetes.data.csv\"\n",
        "names=['preg','plas','pres','skin','test','mass','pedi','age','class']\n",
        "dataframe=pandas.read_csv(url,names=names)\n",
        "array=dataframe.values\n",
        "x=array[:,0:8]\n",
        "y=array[:,8]\n",
        "test_size=0.33\n",
        "seed=7\n",
        "x_train,x_test,y_train,y_test=model_selection.train_test_split(x,y,test_size=test_size,random_state=seed)\n",
        "#fit themodel on  traaining set\n",
        "model=LogisticRegression(max_iter=1500)\n",
        "model.fit(x_train, y_train)\n",
        "#save model to disk\n",
        "filename='finalized_model.sav'\n",
        "pickle.dump(model,open(filename,'wb'))"
      ],
      "execution_count": 0,
      "outputs": []
    },
    {
      "cell_type": "code",
      "metadata": {
        "id": "Q8TBste0flZg",
        "colab_type": "code",
        "outputId": "0a9bfae5-bdbe-4ed7-8e6c-987e81498507",
        "colab": {
          "base_uri": "https://localhost:8080/",
          "height": 34
        }
      },
      "source": [
        "#load the model from disk\n",
        "loaded_model=pickle.load(open(filename,'rb'))\n",
        "result=loaded_model.score(x_test,y_test)\n",
        "print(result)"
      ],
      "execution_count": 0,
      "outputs": [
        {
          "output_type": "stream",
          "text": [
            "0.7874015748031497\n"
          ],
          "name": "stdout"
        }
      ]
    },
    {
      "cell_type": "code",
      "metadata": {
        "id": "aGy8neQshFyO",
        "colab_type": "code",
        "colab": {}
      },
      "source": [
        ""
      ],
      "execution_count": 0,
      "outputs": []
    }
  ]
}